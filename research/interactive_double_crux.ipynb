{
 "cells": [
  {
   "cell_type": "code",
   "execution_count": 1,
   "id": "a882528a-13f2-44e8-819e-a4c95d306b48",
   "metadata": {
    "tags": []
   },
   "outputs": [],
   "source": [
    "%load_ext autoreload\n",
    "%autoreload 2\n",
    "\n",
    "import dotenv\n",
    "import json\n",
    "import langchain\n",
    "from pydantic.dataclasses import dataclass, Field\n",
    "\n",
    "import interlab\n",
    "from interlab import actor, context\n",
    "from interlab.context import Context, with_context\n",
    "\n",
    "import openai\n",
    "import os\n",
    "dotenv.load_dotenv()\n",
    "openai.api_key = os.getenv('OPENAI_API_KEY')\n",
    "\n",
    "import time\n",
    "\n",
    "from interlab.lang_models import WebConsoleModel\n",
    "from interlab.actor import WebConsoleActor"
   ]
  },
  {
   "cell_type": "code",
   "execution_count": 2,
   "id": "02cd33d8-48e1-459a-a1e5-03e32563e33c",
   "metadata": {
    "tags": []
   },
   "outputs": [
    {
     "name": "stdout",
     "output_type": "stream",
     "text": [
      "Participant A, please enter your name: Lynn\n",
      "Participant B, please enter your name: Nuora\n"
     ]
    }
   ],
   "source": [
    "name_a = input('Participant A, please enter your name:')\n",
    "name_b = input('Participant B, please enter your name:')"
   ]
  },
  {
   "cell_type": "code",
   "execution_count": 3,
   "id": "e084c219-fae6-4ccf-b3b3-69840146efd6",
   "metadata": {
    "tags": []
   },
   "outputs": [
    {
     "data": {
      "text/html": [
       "\n",
       "        <iframe\n",
       "            width=\"95%\"\n",
       "            height=\"500\"\n",
       "            src=\"http://localhost:55098\"\n",
       "            frameborder=\"0\"\n",
       "            allowfullscreen\n",
       "            \n",
       "        ></iframe>\n",
       "        "
      ],
      "text/plain": [
       "<IPython.lib.display.IFrame at 0x116a20950>"
      ]
     },
     "metadata": {},
     "output_type": "display_data"
    }
   ],
   "source": [
    "#context browser\n",
    "storage = context.FileStorage(\"logs\") # Directory for storing contexts (structured logs)\n",
    "storage.live_display(height=500)\n",
    "# Alternatively, you can use storage.start_server() if you want to only open the storage in another browser tab"
   ]
  },
  {
   "cell_type": "code",
   "execution_count": 4,
   "id": "ec9039ae-5eeb-4260-b934-529c9e244868",
   "metadata": {
    "tags": []
   },
   "outputs": [
    {
     "data": {
      "text/html": [
       "\n",
       "        <iframe\n",
       "            width=\"900\"\n",
       "            height=\"400\"\n",
       "            src=\"http://localhost:55103/console\"\n",
       "            frameborder=\"0\"\n",
       "            allowfullscreen\n",
       "            \n",
       "        ></iframe>\n",
       "        "
      ],
      "text/plain": [
       "<IPython.lib.display.IFrame at 0x116707810>"
      ]
     },
     "metadata": {},
     "output_type": "display_data"
    }
   ],
   "source": [
    "model = WebConsoleModel(\"Web console\")\n",
    "model.display(height=400)"
   ]
  },
  {
   "cell_type": "code",
   "execution_count": 5,
   "id": "721895fb-f554-4a8f-b928-a60c11f37505",
   "metadata": {
    "tags": []
   },
   "outputs": [],
   "source": [
    "import csv\n",
    "\n",
    "#bot actor setup\n",
    "e4_bot = langchain.chat_models.ChatOpenAI(model_name=\"gpt-4\", temperature = 0.7)\n",
    "\n",
    "bot_instructions = {}\n",
    "with open(\"bot_instructions.csv\", encoding='utf-8-sig') as csvfile:\n",
    "    dict_reader = csv.DictReader(csvfile, escapechar='\\\\')\n",
    "    \n",
    "    # Initialize bot_instructions with keys from the first row\n",
    "    bot_instructions = {key: [] for key in dict_reader.fieldnames}\n",
    "\n",
    "    # Iterate through the rest of the file\n",
    "    for row in dict_reader:\n",
    "        for key, value in row.items():\n",
    "            if value:\n",
    "                bot_instructions[key].append(value)\n",
    "\n",
    "initial_instructions = f'You are a discussion facilitator using the applied rationality method Double Crux to help participants find \\'cruxes\\' upon which the disagreement hinges. \\\n",
    "A crux for an individual is a fact that would change their conclusion in the overall disagreement. \\\n",
    "A double-crux is two symmetric, opposite cruxes: One crux is a fact that, if true, disproves one participant\\'s belief. The second crux is the same fact that, if false, disproves the other participant\\'s belief. \\\n",
    "Here is the premise: {name_a} and {name_b} must hold opposite beliefs. \\\n",
    "Your job is to discover a crux such that if {name_a} believed the crux was true (or false), then they would change their mind about their belief. \\\n",
    "Conversely, the opposite conclusion about the crux would change {name_b}\\'s mind. \\\n",
    "These cruxes would constitute a double-crux. \\\n",
    "The cruxes should be more concrete, falsifiable, well-defined, and/or discoverable than the beliefs. \\\n",
    "Double-Crux differs from typical debates which are usually adversarial, and instead attempt to be a collaborative attempt to uncover the true underlying structure of the disagreement. \\n\\\n",
    "Address and ask questions to only one participant at a time.'               "
   ]
  },
  {
   "cell_type": "code",
   "execution_count": 6,
   "id": "050d316d-3690-4509-a6e9-31036ae55e10",
   "metadata": {
    "tags": []
   },
   "outputs": [],
   "source": [
    "import enum\n",
    "#pip3 install aenum\n",
    "from aenum import extend_enum\n",
    "\n",
    "class TurnID(enum.Enum):\n",
    "    participant_a = name_a\n",
    "    participant_b = name_b\n",
    "\n",
    "#WARNING: bad practice way to set attributes - restart kernel if you update the csv file\n",
    "class ConversationStep(enum.Enum):\n",
    "    pass\n",
    "\n",
    "for key in bot_instructions.keys():\n",
    "    extend_enum(ConversationStep, key, key)\n",
    "\n",
    "@dataclass\n",
    "class ChatbotAction:\n",
    "    analysis: str = Field(\n",
    "        description=\"My hidden thoughts and reasoning, visible only to me.\")\n",
    "    next_turn: TurnID = Field(\n",
    "        description=\"The single person who should reply next in the conversation. Switch between participants as often as possible.\")\n",
    "    reply: str = Field(\n",
    "        description=\"My response, directed to the single participant who I chose to speak next.\")\n",
    "\n",
    "@dataclass\n",
    "class DiscussionFlow:\n",
    "    conversation_step: ConversationStep = Field(\n",
    "        description=\"The next phase that this conversation should enter. \\\n",
    "        There are 3 choices:\\n \\\n",
    "        Find crux = Try to find one of the participant's cruxes. You should do this at least once in every conversation, or multiple times until a crux is found that leads to a double crux.\\n \\\n",
    "        Verify double crux = Check if the other participant shares a symmetric, opposite crux. You should do this after finding one of the participant's cruxes to see if it is a double crux.\\n \\\n",
    "        Close discussion = End this conversation if you found a double crux, no double crux was found after a few tries, or if the conversation is out of control.\\n\")"
   ]
  },
  {
   "cell_type": "code",
   "execution_count": 7,
   "id": "33ab5420-be9a-41a9-80f6-a2a62812b962",
   "metadata": {},
   "outputs": [],
   "source": [
    "#function to avoid sending api requests too quickly\n",
    "def act(speaker, message=None, expected_type=None):\n",
    "    for i in range(3):\n",
    "        try:\n",
    "            action_event = speaker.act(message, expected_type=expected_type)\n",
    "            return action_event.data\n",
    "        except:\n",
    "            time.sleep(30)\n",
    "        print('RATE LIMIT TIMEOUT')\n",
    "\n",
    "\n",
    "def conversation(bot: actor.ActorWithMemory, max_turns = 50):\n",
    "    #default\n",
    "    result = \"TIMEOUT\"\n",
    "    \n",
    "    chat_history = []\n",
    "    \n",
    "    step, substep = 'Start', 0\n",
    "    \n",
    "    for i in range(1, max_turns + 1):\n",
    "        if i%2 == 1:\n",
    "            speaker = bot\n",
    "            message = bot_instructions.get(step)[substep].format(participant_a = name_a, participant_b = name_b)\n",
    "            expected_action = ChatbotAction\n",
    "            \n",
    "            action = act(\n",
    "                speaker,\n",
    "                message = message,\n",
    "                expected_type=expected_action)\n",
    "            assert isinstance(action, expected_action)\n",
    "            \n",
    "            hidden_thoughts = str(action.analysis)\n",
    "            bot.observe(f'Conversation analysis: {hidden_thoughts}')\n",
    "            \n",
    "            reply = action.reply\n",
    "            chat_history.append(\n",
    "                f'{speaker.name}: {reply}')\n",
    "            \n",
    "        else:\n",
    "            speaker = str(action.next_turn.value)\n",
    "            reply = model.query(f'Chatbot: {reply}')\n",
    "            chat_history.append(\n",
    "                f'{speaker}: {reply}')\n",
    "            bot.observe('\\n'.join(chat_history[-2:]))\n",
    "            substep += 1\n",
    "            \n",
    "        if substep == len(bot_instructions.get(step)):\n",
    "            if step == 'Close discussion':\n",
    "                break\n",
    "            action = act(\n",
    "                bot,\n",
    "                message = None,\n",
    "                expected_type=DiscussionFlow)\n",
    "            assert isinstance(action, DiscussionFlow)\n",
    "            step, substep = str(action.conversation_step.value), 0\n",
    "            \n",
    "        \n",
    "    return result, chat_history"
   ]
  },
  {
   "cell_type": "code",
   "execution_count": 8,
   "id": "bb580bc8-9e4b-4cea-9fb7-4790fe496737",
   "metadata": {
    "tags": []
   },
   "outputs": [
    {
     "name": "stdout",
     "output_type": "stream",
     "text": [
      "Done: ('TIMEOUT', [\"Double Crux Facilitator: Hello Lynn, I'm here to facilitate our conversation today. My role is to help us uncover the true underlying structure of our disagreement using the Double Crux method. This isn't a debate, but a collaborative process to understand each other's perspectives better. I'm curious, are you open to the possibility of changing your mind today, assuming we find a crux that challenges your current belief?\", 'Lynn: Yes, I am willing to change my mind and hoping at least one of us does because only one choice can be taken ultimately.', 'Double Crux Facilitator: Hello Nuora, as part of our discussion today, I want us to keep an open mind and be ready to consider different perspectives. Are you open to the possibility of changing your stance today, should a crux that challenges your current belief come to light?', 'Nuora: Yes, I am also open to changing my mind and in fact eager to do so. I want us to be a unified front when it comes time to make a final decision.', 'Double Crux Facilitator: Thank you for your openness, Lynn. Could you please give us a broad overview of your perspective on the disagreement?', \"Lynn: Sure, I think that Sarah should work in the psychedelics lab for her master's thesis. There are so many reasons why. 1) I think psychedelics work could be something that she pursues in the long-term, whether in terms of studying psychiatry in medical school if she is accepted or becoming a psychedelic therapist or doing further research on the topic. 2) She is enthusiastic about the project! When she gets obsessed with something, then she can really go all out if she wants to. Reading books, listening to podcasts, etc. 3) Her friends are also interested in psychedelics, so there will be constant conversational fodder which she also finds stimulating. It will brighten her rather than dull her. 4) She hasn't enjoyed coding work in the past two labs she worked at. Why would this be any different? After her physics modeling internship, she promised herself she wouldn't take on a coding project since she hated being stuck at a screen all day. 5) She feels a pit of dread when she thinks about the image analysis project since it is intimidatingly difficult and also something she feels no excitement about. 6) The other project is just a job... She has no passion for it. Is that fair to the lab members and PI who are investing in her?\", \"Double Crux Facilitator: Thank you, Lynn, for outlining your perspective so clearly. Now, Nuora, could you please share your thoughts on the matter? Do you agree with Lynn's points or is there anything you would like to add or challenge?\", \"Nuora: Sure, I want to add my viewpoint. I think Sarah should take the master's thesis position working on the image analysis project. 1) It is a very well-defined project that has been thought out carefully by the PI and her two mentors. What real feedback and support has the other lab given her? If she gets stuck on something in the psychedelics lab, she might not have anywhere to turn, which could ultimately be more stressful. 2) She would get paid, so she wouldn't have to stress/worry about applying to grants. 3) This lab is more prestigious and clearly better run in general. She can get a glimpse into how REAL, RIGOROUS research is done, which is not something she has seen before, and she might get a fancy publication with her name on it if she is really lucky. 4) She might learn to like the project even if the thought torments her now. 5) The psychedelics project involves mice, which could be deeply troubling and disturbing to her. It might even damage her reputation (rightfully or not) in terms of animal welfare. 6) She strongly believes she won't go into research, so why take the psychedelics project? She can learn about psychedelics on her own time. She doesn't need to do some project that doesn't even seem very well designed to her.\", 'Double Crux Facilitator: Thank you for your detailed perspective, Nuora. Lynn, do you agree with the points Nuora has made here? Could you see yourself changing your mind if, for example, the psychedelics lab was not as supportive or well-run as you currently believe it to be?', 'Lynn: The issue is that we are simply out of time to collect more evidence for one way or the other. If I imagine that the psychedelics lab were really poorly run with almost no supervision, then I can see that it would be challenging. However, the experiments do appear to be planned out already. Maybe the analysis part is ill-defined, which could leave her with little to nothing to show for in the thesis. That scenario would be stressful. So yes, thinking about the possibility that there is no data to show for the project, I think the image analysis lab sounds better.', 'Double Crux Facilitator: Thanks for your response, Lynn. Nuora, I would like to hear your thoughts on what Lynn just shared. If you imagine that the image analysis project does not offer the benefits you expect, such as a well-defined project or a prestigious publication, could you see yourself leaning towards the psychedelics lab?', \"Nuora: Yeah, the well-constrained and achievable nature of the image analysis project is its entire selling point. If it turned out I received very little guidance and was left to flounder, that could cause her extreme panic since she is not super enthused about the project anyway. I don't think the evidence points to that, though. The PI seems extraordinarily organized, as do the lab members.\", \"Double Crux Facilitator: Lynn, you mentioned the level of support and guidance in the psychedelics lab as a potential concern. What kind of evidence would convince you that the psychedelics lab may not provide sufficient support for Sarah's thesis work?\", \"Lynn: The evidence would be if Teemu does not respond to Sarah by tomorrow addressing her concern about completing the thesis on time. A lack of reply seems like a death knoll for the project given her time limit to get the topic approved anyway, and it is foreboding in terms of the state of affairs 5 months in the future. I think it might indicate that Teemu hasn't really thought things through or doesn't see it worth explaining to Sarah that he has considered her time restrictions or given any justification for why she doesn't need to worry about them.\", \"Double Crux Facilitator: Lynn, based on what you've shared, it seems like a potential crux for you could be the level of support and organization in the psychedelics lab. In other words, if you had evidence that the lab was poorly organized or did not provide sufficient support, you might change your mind and favor the image analysis project. Does that sound accurate to you?\", \"Lynn: Yeah, if I felt like Teemu didn't understand the urgency of completing the master's thesis or really invest in explaining it logistics to Sarah, then it doesn't make sense to fret over that aspect for the whole project duration.\", 'Double Crux Facilitator: Lynn, Nuora mentioned that a crucial factor for her is the well-defined scope and potential prestige of the image analysis project. If you were to find out that this project is not as well-defined or prestigious as Nuora thinks, would this influence your current belief in favor of the psychedelics lab?', 'Lynn: The prestige doesn\\'t really matter to be honest. However, the well-defined scope is essential. Also, how much are the lab members demanding from her? If she cannot fulfill their requests (which is actually probably the #1 concern) and they pressure her to work overtime or get it done by \"any means necessary,\" then I would 100% recommend her to stick with the psychedelics project. It\\'s better to be clueless and get a bad grade than to be clueless and have a lot of pressure and stress to deliver.', 'Double Crux Facilitator: Nuora, Lynn just brought up the issue of pressure and demands from the lab members in the image analysis project. If you were to find out that the project demands are too high and the environment is stressful, would that influence your current belief in favor of the image analysis project?', \"Nuora: 100%. Yeah I think this is actually the crux for me. If the work environment is demanding, then it is a STRONG no from me. Sarah doesn't need that kind of stress. (Of course, there's no telling if Teemu's expectations are any lower, but he does have a much more laid back feel about him and din't drill Sarah on her competencies. The other lab asked her a lot about her level of comfort with programming, etc. and mentioned that they need work done well and efficiently, which seems like a big statement.)\", 'Double Crux Facilitator: Lynn, you mentioned the level of pressure and demands from the lab members in the image analysis project as a potential concern. Nuora agreed that this could be a crux for her as well. In other words, if the project were too demanding or stressful, both of you might lean towards the psychedelics lab. Does that sound accurate to you?', \"Lynn: Yes. Overall, Sarah is less stressed about getting a poor grade than she is stressed about not living up to expectations. She'd rather work for free with no strings attached than get paid to do something she hates and feels inadequately prepared for.\", 'Double Crux Facilitator: Nuora, Lynn has confirmed our potential double crux. If the image analysis project turns out to be too demanding or stressful, both of you would lean towards the psychedelics lab. Does this sound accurate to you as well?', 'Nuora: Yes, super accurate. That was actually very enlightening.', 'Double Crux Facilitator: We have identified a potential double crux that could help us resolve this disagreement. Both of you mentioned the level of pressure and demands from the image analysis lab as a key concern. If it turns out that this project is too demanding or stressful, both of you would lean towards the psychedelics lab. I suggest we try to gather more information about both labs to evaluate this double crux. For example, we could try to find out more about the working conditions, the expected workload, and the level of support Sarah would receive in each lab. Does that sound like a good next step, Lynn?', \"Lynn: Sure, we have limited time, though, so we have to make the decision based on what we already know. On the one hand, the image analysis lab by Ville seems to have a strong work environment. There is communication, collaboration, etc, and Ville has an interest in making sure people do good work, so it seems like the mentorship and guidance will be strong (to a point. Of course, Sarah will be 'alone' for a lot of it too.) On the other hand, will the increased mentorship really outweigh the fast-paced and intense culture in the lab? I can't really tell which will impact Sarah more. Maybe we could talk about this for a bit?\"])\n"
     ]
    }
   ],
   "source": [
    "bot = actor.OneShotLLMActor(\"Double Crux Facilitator\", e4_bot, f'{initial_instructions}')\n",
    "\n",
    "with Context(f\"double-crux\", storage=storage) as c:\n",
    "    r = conversation(bot)\n",
    "    c.set_result(r)\n",
    "    print(f\"Done: {r}\")"
   ]
  },
  {
   "cell_type": "code",
   "execution_count": null,
   "id": "94110ec2-d2d1-4a99-9f3e-e56a77d92613",
   "metadata": {},
   "outputs": [],
   "source": []
  },
  {
   "cell_type": "code",
   "execution_count": null,
   "id": "406a7bc6-3aff-4940-b9ad-351cf0ea1860",
   "metadata": {},
   "outputs": [],
   "source": []
  }
 ],
 "metadata": {
  "kernelspec": {
   "display_name": "Python 3 (ipykernel)",
   "language": "python",
   "name": "python3"
  },
  "language_info": {
   "codemirror_mode": {
    "name": "ipython",
    "version": 3
   },
   "file_extension": ".py",
   "mimetype": "text/x-python",
   "name": "python",
   "nbconvert_exporter": "python",
   "pygments_lexer": "ipython3",
   "version": "3.11.4"
  }
 },
 "nbformat": 4,
 "nbformat_minor": 5
}
